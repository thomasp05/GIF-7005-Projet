{
 "cells": [
  {
   "cell_type": "code",
   "execution_count": null,
   "metadata": {
    "colab": {
     "base_uri": "https://localhost:8080/"
    },
    "id": "ZiPEjbu982Pt",
    "outputId": "959fe8d5-7cd1-4211-c39c-8fadb55957e9"
   },
   "outputs": [],
   "source": [
    "# Set up colab instance\n",
    "from google.colab import drive\n",
    "drive.mount('/content/drive')"
   ]
  },
  {
   "cell_type": "code",
   "execution_count": null,
   "metadata": {
    "colab": {
     "base_uri": "https://localhost:8080/"
    },
    "id": "rdfZsUou9Oho",
    "outputId": "73b4c304-b42e-4aea-a4a4-0e39600eefa2"
   },
   "outputs": [],
   "source": [
    "# Make sure clone at root\n",
    "!pip3 install pydicom\n",
    "!git clone https://github.com/thomasp05/gif-705-projet"
   ]
  },
  {
   "cell_type": "code",
   "execution_count": null,
   "metadata": {
    "id": "Jo9gRFdWKzDZ"
   },
   "outputs": [],
   "source": [
    "import os\n",
    "os.chdir('gif-705-projet')"
   ]
  },
  {
   "cell_type": "code",
   "execution_count": null,
   "metadata": {
    "colab": {
     "base_uri": "https://localhost:8080/"
    },
    "id": "_TBcjqAdH8hu",
    "outputId": "1d6dc108-2921-4f4d-9972-4771712af684"
   },
   "outputs": [],
   "source": [
    "!git pull origin features/metrics\n",
    "!git checkout features/metrics"
   ]
  },
  {
   "cell_type": "code",
   "execution_count": null,
   "metadata": {
    "colab": {
     "base_uri": "https://localhost:8080/"
    },
    "id": "dfXfukbi9QsR",
    "outputId": "19df13c7-e75a-45ce-db85-7388ac46ebc2"
   },
   "outputs": [],
   "source": [
    "import time\n",
    "\n",
    "import torch\n",
    "\n",
    "from dataset import *\n",
    "from models import *\n",
    "from metrics import *\n",
    "\n",
    "import models_parts\n",
    "\n",
    "torch.manual_seed(111)"
   ]
  },
  {
   "cell_type": "code",
   "execution_count": null,
   "metadata": {
    "id": "dnYN7BsD9ijd"
   },
   "outputs": [],
   "source": [
    "class Downsample:\n",
    "  def __init__(self):\n",
    "    self.pool = nn.AvgPool2d(2)\n",
    "    \n",
    "  def __call__(self, x, target):\n",
    "    x = self.pool(x.unsqueeze(0)).squeeze(0)\n",
    "    target = self.pool(target)\n",
    "    return x, target"
   ]
  },
  {
   "cell_type": "code",
   "execution_count": null,
   "metadata": {
    "colab": {
     "base_uri": "https://localhost:8080/"
    },
    "id": "ze6fBjzR9jK2",
    "outputId": "80c0b2c8-a0fc-4903-b54d-274071bb9ea0"
   },
   "outputs": [],
   "source": [
    "dataset = dcm_dataset('../drive/MyDrive/GIF-7005-Projet/gif-7005-projet/data',\n",
    "                      transforms=Downsample())\n",
    "print(\"Found {} images\".format(len(dataset.img_files)))\n",
    "\n",
    "train_set, test_set = train_test_split(dataset)\n",
    "\n",
    "train_loader = torch.utils.data.DataLoader(\n",
    "    train_set, batch_size=4, num_workers=2)\n",
    "test_loader = torch.utils.data.DataLoader(\n",
    "    test_set, batch_size=4, num_workers=2)"
   ]
  },
  {
   "cell_type": "code",
   "execution_count": null,
   "metadata": {
    "id": "jxpjv3rz9nHc"
   },
   "outputs": [],
   "source": [
    "model = UNet(1).to(\"cuda:0\")"
   ]
  },
  {
   "cell_type": "code",
   "execution_count": null,
   "metadata": {
    "colab": {
     "base_uri": "https://localhost:8080/"
    },
    "id": "qpWv-uIf9w-y",
    "outputId": "eff060b5-3d58-4cc1-f96e-2b8d5a093404"
   },
   "outputs": [],
   "source": [
    "run_test(model, test_loader, [IoU(), Confusion_matrix()], \"cuda:0\")"
   ]
  }
 ],
 "metadata": {
  "accelerator": "GPU",
  "colab": {
   "name": "metrics_example.ipynb",
   "provenance": []
  },
  "kernelspec": {
   "display_name": "Python 3",
   "language": "python",
   "name": "python3"
  },
  "language_info": {
   "codemirror_mode": {
    "name": "ipython",
    "version": 3
   },
   "file_extension": ".py",
   "mimetype": "text/x-python",
   "name": "python",
   "nbconvert_exporter": "python",
   "pygments_lexer": "ipython3",
   "version": "3.8.5"
  }
 },
 "nbformat": 4,
 "nbformat_minor": 4
}
