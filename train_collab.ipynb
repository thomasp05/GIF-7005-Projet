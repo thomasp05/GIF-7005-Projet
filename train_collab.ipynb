{
  "nbformat": 4,
  "nbformat_minor": 0,
  "metadata": {
    "accelerator": "GPU",
    "colab": {
      "name": "train.ipynb",
      "provenance": [],
      "collapsed_sections": []
    },
    "kernelspec": {
      "display_name": "Python 3",
      "language": "python",
      "name": "python3"
    },
    "language_info": {
      "codemirror_mode": {
        "name": "ipython",
        "version": 3
      },
      "file_extension": ".py",
      "mimetype": "text/x-python",
      "name": "python",
      "nbconvert_exporter": "python",
      "pygments_lexer": "ipython3",
      "version": "3.7.1"
    }
  },
  "cells": [
    {
      "cell_type": "markdown",
      "metadata": {
        "id": "hHhKoM6gHy-j"
      },
      "source": [
        "Test with Github"
      ]
    },
    {
      "cell_type": "code",
      "metadata": {
        "colab": {
          "base_uri": "https://localhost:8080/"
        },
        "id": "qnxS2EaFu7LK",
        "outputId": "9b8cadcf-aeb9-457d-9cf1-8911f4e88121"
      },
      "source": [
        "# Set up colab instance\n",
        "from google.colab import drive\n",
        "drive.mount('/content/drive/')\n",
        "\n",
        "\n"
      ],
      "execution_count": 1,
      "outputs": [
        {
          "output_type": "stream",
          "text": [
            "Mounted at /content/drive/\n"
          ],
          "name": "stdout"
        }
      ]
    },
    {
      "cell_type": "code",
      "metadata": {
        "id": "2Jk0-_RLRGUZ"
      },
      "source": [
        "import os\n",
        "os.chdir('drive/MyDrive/GIF-7005-Projet/gif-7005-projet/')"
      ],
      "execution_count": 2,
      "outputs": []
    },
    {
      "cell_type": "code",
      "metadata": {
        "colab": {
          "base_uri": "https://localhost:8080/"
        },
        "id": "DDqxjVet9FqH",
        "outputId": "ce0eb1f5-2240-4611-aefc-140a49a60d65"
      },
      "source": [
        "!pip3 install pydicom"
      ],
      "execution_count": 3,
      "outputs": [
        {
          "output_type": "stream",
          "text": [
            "Collecting pydicom\n",
            "\u001b[?25l  Downloading https://files.pythonhosted.org/packages/72/7b/6ed88f82dd33a32cdb43432dab7f84fcd40c49d63251442b3cfe0be983d4/pydicom-2.1.1-py3-none-any.whl (1.9MB)\n",
            "\u001b[K     |████████████████████████████████| 1.9MB 5.7MB/s \n",
            "\u001b[?25hInstalling collected packages: pydicom\n",
            "Successfully installed pydicom-2.1.1\n"
          ],
          "name": "stdout"
        }
      ]
    },
    {
      "cell_type": "code",
      "metadata": {
        "colab": {
          "base_uri": "https://localhost:8080/"
        },
        "id": "FoNGovNE9Qgm",
        "outputId": "acec47fe-6996-4d02-b8b5-5abe4f75a8da"
      },
      "source": [
        "# Pull any change on the repo\n",
        "\n",
        "!git pull"
      ],
      "execution_count": 4,
      "outputs": [
        {
          "output_type": "stream",
          "text": [
            "remote: Enumerating objects: 5, done.\u001b[K\n",
            "remote: Counting objects:  20% (1/5)\u001b[K\rremote: Counting objects:  40% (2/5)\u001b[K\rremote: Counting objects:  60% (3/5)\u001b[K\rremote: Counting objects:  80% (4/5)\u001b[K\rremote: Counting objects: 100% (5/5)\u001b[K\rremote: Counting objects: 100% (5/5), done.\u001b[K\n",
            "remote: Compressing objects: 100% (2/2), done.\u001b[K\n",
            "remote: Total 4 (delta 1), reused 4 (delta 1), pack-reused 0\u001b[K\n",
            "Unpacking objects: 100% (4/4), done.\n",
            "From https://github.com/thomasp05/gif-705-projet\n",
            "   0391015..c89f0de  main       -> origin/main\n",
            "Updating 0391015..c89f0de\n",
            "Fast-forward\n",
            " documentation/iaa-projet-a20.pdf | Bin \u001b[31m0\u001b[m -> \u001b[32m82726\u001b[m bytes\n",
            " 1 file changed, 0 insertions(+), 0 deletions(-)\n",
            " create mode 100644 documentation/iaa-projet-a20.pdf\n"
          ],
          "name": "stdout"
        }
      ]
    },
    {
      "cell_type": "code",
      "metadata": {
        "colab": {
          "base_uri": "https://localhost:8080/"
        },
        "id": "Fhc7sieDHgl4",
        "outputId": "c103cf4a-06f4-45e7-ef14-f14fba3215cc"
      },
      "source": [
        "import time\n",
        "\n",
        "import torch\n",
        "\n",
        "from dataset import *\n",
        "from models import *\n",
        "\n",
        "torch.manual_seed(111)"
      ],
      "execution_count": 5,
      "outputs": [
        {
          "output_type": "execute_result",
          "data": {
            "text/plain": [
              "<torch._C.Generator at 0x7fced44256c0>"
            ]
          },
          "metadata": {
            "tags": []
          },
          "execution_count": 5
        }
      ]
    },
    {
      "cell_type": "code",
      "metadata": {
        "id": "1oWT_lAewCYb"
      },
      "source": [
        "# HYPERPARAMETERS\n",
        "N_EPOCH = 10\n",
        "BATCH_SIZE = 64"
      ],
      "execution_count": 6,
      "outputs": []
    },
    {
      "cell_type": "code",
      "metadata": {
        "id": "pHxWB57ZHgmD"
      },
      "source": [
        "dataset = dcm_dataset('data')\n",
        "\n",
        "train_set, test_set = train_test_split(dataset)\n",
        "\n",
        "train_loader = torch.utils.data.DataLoader(\n",
        "    train_set, batch_size=BATCH_SIZE, num_workers=2)\n",
        "test_loader = torch.utils.data.DataLoader(\n",
        "    test_set, batch_size=BATCH_SIZE, num_workers=2)"
      ],
      "execution_count": 7,
      "outputs": []
    },
    {
      "cell_type": "code",
      "metadata": {
        "id": "fv23E1d2HgmG"
      },
      "source": [
        "cnn = Vanilla_CNN(width=16).to(\"cuda:0\")\n",
        "regressor = Simple_regressor(16 * 8 * 8).to(\"cuda:0\")"
      ],
      "execution_count": 8,
      "outputs": []
    },
    {
      "cell_type": "code",
      "metadata": {
        "id": "lUsXI7iyHgmJ"
      },
      "source": [
        "params = list(cnn.parameters()) + list(regressor.parameters())\n",
        "optim = torch.optim.Adam(params, lr=1e-4)\n",
        "\n",
        "loss_fn = torch.nn.BCEWithLogitsLoss()"
      ],
      "execution_count": 9,
      "outputs": []
    },
    {
      "cell_type": "code",
      "metadata": {
        "id": "4iyJS0wKHgmM"
      },
      "source": [
        "cnn.train()\n",
        "regressor.train()\n",
        "\n",
        "for epoch in range(N_EPOCH):\n",
        "    timer = time.time()\n",
        "\n",
        "    img_processed = 0\n",
        "\n",
        "    for img, target in train_loader:\n",
        "\n",
        "        optim.zero_grad()\n",
        "\n",
        "        img, target = img.to(\"cuda:0\"), target.to(\"cuda:0\")\n",
        "\n",
        "        pred1 = cnn(img)\n",
        "        pred2 = regressor(pred1.flatten(1, -1)).squeeze()\n",
        "\n",
        "        loss = loss_fn(pred2, target.to(torch.float))\n",
        "\n",
        "        loss.backward()\n",
        "\n",
        "        optim.step()\n",
        "\n",
        "        img_processed += img.shape[0]\n",
        "\n",
        "    print(\"Epoch : {}\".format(epoch + 1))\n",
        "    print(\"Time elapsed : {}\".format(time.time() - timer))"
      ],
      "execution_count": null,
      "outputs": []
    },
    {
      "cell_type": "code",
      "metadata": {
        "colab": {
          "base_uri": "https://localhost:8080/"
        },
        "id": "jFf8P4Ve3aEK",
        "outputId": "96ef5484-6c18-48ed-cf05-881559bae628"
      },
      "source": [
        "# Accuracy\n",
        "\n",
        "cnn.eval()\n",
        "regressor.eval()"
      ],
      "execution_count": 12,
      "outputs": [
        {
          "output_type": "execute_result",
          "data": {
            "text/plain": [
              "Simple_regressor(\n",
              "  (layer): Linear(in_features=1024, out_features=1, bias=True)\n",
              ")"
            ]
          },
          "metadata": {
            "tags": []
          },
          "execution_count": 12
        }
      ]
    },
    {
      "cell_type": "code",
      "metadata": {
        "id": "87kXZhuEwW3l"
      },
      "source": [
        "# Accuracy\n",
        "\n",
        "cnn.eval()\n",
        "regressor.eval()\n",
        "\n",
        "score = []\n",
        "\n",
        "for img, target in test_loader:\n",
        "\n",
        "    img, target = img.to(\"cuda:0\"), target.to(\"cuda:0\")\n",
        "\n",
        "    pred1 = cnn(img)\n",
        "    pred2 = regressor(pred1.flatten(1, -1)).squeeze()\n",
        "\n",
        "    score_ = ((pred2 > 0.5) == (target == 1)).sum()\n",
        "\n",
        "    score.append(score_)\n",
        "\n",
        "score = torch.Tensor(score).sum() / len(test_loader.dataset)\n",
        "print(score)"
      ],
      "execution_count": null,
      "outputs": []
    }
  ]
}