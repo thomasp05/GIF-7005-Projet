{
 "cells": [
  {
   "cell_type": "markdown",
   "metadata": {
    "id": "hHhKoM6gHy-j"
   },
   "source": [
    "Test with Github"
   ]
  },
  {
   "cell_type": "code",
   "execution_count": null,
   "metadata": {
    "colab": {
     "base_uri": "https://localhost:8080/"
    },
    "id": "qnxS2EaFu7LK",
    "outputId": "c4daa7dc-05f3-4204-dae8-2f7799987b45"
   },
   "outputs": [],
   "source": [
    "# Set up colab instance\n",
    "from google.colab import drive\n",
    "drive.mount('/content/drive')\n",
    "\n",
    "!pip3 install pydicom\n",
    "!git clone https://github.com/thomasp05/gif-705-projet\n",
    "\n",
    "import os\n",
    "os.chdir('gif-705-projet')"
   ]
  },
  {
   "cell_type": "code",
   "execution_count": null,
   "metadata": {
    "colab": {
     "base_uri": "https://localhost:8080/"
    },
    "id": "Fhc7sieDHgl4",
    "outputId": "c60407de-2a3a-4cb0-b01a-e3bfb6bd0abd"
   },
   "outputs": [],
   "source": [
    "import time\n",
    "\n",
    "import torch\n",
    "\n",
    "from dataset import *\n",
    "from models import *\n",
    "\n",
    "torch.manual_seed(111)"
   ]
  },
  {
   "cell_type": "code",
   "execution_count": null,
   "metadata": {
    "id": "1oWT_lAewCYb"
   },
   "outputs": [],
   "source": [
    "# HYPERPARAMETERS\n",
    "N_EPOCH = 50\n",
    "BATCH_SIZE = 32"
   ]
  },
  {
   "cell_type": "code",
   "execution_count": null,
   "metadata": {
    "id": "pHxWB57ZHgmD"
   },
   "outputs": [],
   "source": [
    "dataset = dcm_dataset('../drive/MyDrive/GIF-7005-Projet/gif-7005-projet/data')\n",
    "\n",
    "train_set, test_set = train_test_split(dataset)\n",
    "\n",
    "train_loader = torch.utils.data.DataLoader(\n",
    "    train_set, batch_size=BATCH_SIZE, num_workers=2)\n",
    "test_loader = torch.utils.data.DataLoader(\n",
    "    test_set, batch_size=BATCH_SIZE, num_workers=2)"
   ]
  },
  {
   "cell_type": "code",
   "execution_count": null,
   "metadata": {
    "id": "fv23E1d2HgmG"
   },
   "outputs": [],
   "source": [
    "cnn = Vanilla_CNN(width=16).to(\"cuda:0\")\n",
    "regressor = Simple_regressor(16 * 8 * 8).to(\"cuda:0\")"
   ]
  },
  {
   "cell_type": "code",
   "execution_count": null,
   "metadata": {
    "id": "murFxsRBbYZ8"
   },
   "outputs": [],
   "source": [
    "# If model exists, load it\n",
    "if os.path.exists(\"../drive/MyDrive/GIF-7005-Projet/gif-7005-projet/cnn.pt\"):\n",
    "  cnn.load_state_dict(torch.load(\"../drive/MyDrive/GIF-7005-Projet/gif-7005-projet/cnn.pt\"))\n",
    "if os.path.exists(\"../drive/MyDrive/GIF-7005-Projet/gif-7005-projet/regressor.pt\"):\n",
    "  regressor.load_state_dict(torch.load(\"../drive/MyDrive/GIF-7005-Projet/gif-7005-projet/regressor.pt\"))"
   ]
  },
  {
   "cell_type": "code",
   "execution_count": null,
   "metadata": {
    "id": "lUsXI7iyHgmJ"
   },
   "outputs": [],
   "source": [
    "params = list(cnn.parameters()) + list(regressor.parameters())\n",
    "optim = torch.optim.Adam(params, lr=1e-4)\n",
    "\n",
    "loss_fn = torch.nn.BCEWithLogitsLoss()"
   ]
  },
  {
   "cell_type": "code",
   "execution_count": null,
   "metadata": {
    "colab": {
     "base_uri": "https://localhost:8080/"
    },
    "id": "4iyJS0wKHgmM",
    "outputId": "ebc31140-daa8-48b7-d75e-3294d0dd17dc"
   },
   "outputs": [],
   "source": [
    "cnn.train()\n",
    "regressor.train()\n",
    "\n",
    "for epoch in range(N_EPOCH):\n",
    "    timer = time.time()\n",
    "\n",
    "    img_processed = 0\n",
    "\n",
    "    for img, (target, bounding_box) in train_loader:\n",
    "\n",
    "        optim.zero_grad()\n",
    "\n",
    "        img, target = img.to(\"cuda:0\"), target.to(\"cuda:0\")\n",
    "\n",
    "        pred1 = cnn(img)\n",
    "        pred2 = regressor(pred1.flatten(1, -1)).squeeze()\n",
    "\n",
    "        loss = loss_fn(pred2, target.to(torch.float))\n",
    "\n",
    "        loss.backward()\n",
    "\n",
    "        optim.step()\n",
    "\n",
    "        img_processed += img.shape[0]\n",
    "\n",
    "        # print(\"{:.2f} %, time : {:.2f}\\r\".format(100*img_processed/len(train_loader.dataset), time.time()-timer))\n",
    "\n",
    "    print(\"Epoch : {}\".format(epoch + 1))\n",
    "    print(\"Time elapsed : {:.2f}\".format(time.time() - timer))"
   ]
  },
  {
   "cell_type": "code",
   "execution_count": null,
   "metadata": {
    "id": "1jLa2BL1aH6a"
   },
   "outputs": [],
   "source": [
    "# Save models\n",
    "torch.save(cnn.state_dict(), \"../drive/MyDrive/GIF-7005-Projet/gif-7005-projet/cnn.pt\")\n",
    "torch.save(regressor.state_dict(), \"../drive/MyDrive/GIF-7005-Projet/gif-7005-projet/regressor.pt\")"
   ]
  },
  {
   "cell_type": "code",
   "execution_count": null,
   "metadata": {
    "id": "j4Z5D2ZNac0b"
   },
   "outputs": [],
   "source": [
    "# Free memory\n",
    "del optim, img, target, bounding_box\n",
    "torch.cuda.empty_cache()"
   ]
  },
  {
   "cell_type": "code",
   "execution_count": null,
   "metadata": {
    "id": "87kXZhuEwW3l"
   },
   "outputs": [],
   "source": [
    "# Accuracy\n",
    "\n",
    "cnn.eval()\n",
    "regressor.eval()\n",
    "\n",
    "score = []\n",
    "\n",
    "for img, (target, bounding_box) in test_loader:\n",
    "\n",
    "    img, target = img.to(\"cuda:0\"), target.to(\"cuda:0\")\n",
    "\n",
    "    pred1 = cnn(img)\n",
    "    pred2 = regressor(pred1.flatten(1, -1)).squeeze()\n",
    "\n",
    "    score_ = ((pred2 > 0.5) == (target == 1)).sum()\n",
    "\n",
    "    score.append(score_)\n",
    "\n",
    "score = torch.Tensor(score).sum() / len(test_loader.dataset)\n",
    "print(score)"
   ]
  }
 ],
 "metadata": {
  "accelerator": "GPU",
  "colab": {
   "name": "train.ipynb",
   "provenance": []
  },
  "kernelspec": {
   "display_name": "Python 3",
   "language": "python",
   "name": "python3"
  },
  "language_info": {
   "codemirror_mode": {
    "name": "ipython",
    "version": 3
   },
   "file_extension": ".py",
   "mimetype": "text/x-python",
   "name": "python",
   "nbconvert_exporter": "python",
   "pygments_lexer": "ipython3",
   "version": "3.8.5"
  }
 },
 "nbformat": 4,
 "nbformat_minor": 4
}
