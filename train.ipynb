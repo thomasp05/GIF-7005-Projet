{
  "nbformat": 4,
  "nbformat_minor": 0,
  "metadata": {
    "kernelspec": {
      "display_name": "Python 3",
      "language": "python",
      "name": "python3"
    },
    "language_info": {
      "codemirror_mode": {
        "name": "ipython",
        "version": 3
      },
      "file_extension": ".py",
      "mimetype": "text/x-python",
      "name": "python",
      "nbconvert_exporter": "python",
      "pygments_lexer": "ipython3",
      "version": "3.8.5"
    },
    "colab": {
      "name": "train.ipynb",
      "provenance": [],
      "include_colab_link": true
    }
  },
  "cells": [
    {
      "cell_type": "markdown",
      "metadata": {
        "id": "view-in-github",
        "colab_type": "text"
      },
      "source": [
        "<a href=\"https://colab.research.google.com/github/thomasp05/GIF-7005-Projet/blob/main/train.ipynb\" target=\"_parent\"><img src=\"https://colab.research.google.com/assets/colab-badge.svg\" alt=\"Open In Colab\"/></a>"
      ]
    },
    {
      "cell_type": "markdown",
      "metadata": {
        "id": "hHhKoM6gHy-j"
      },
      "source": [
        "Test with Github"
      ]
    },
    {
      "cell_type": "code",
      "metadata": {
        "id": "Fhc7sieDHgl4"
      },
      "source": [
        "import time\n",
        "\n",
        "import torch\n",
        "from dataset import *\n",
        "from models import *"
      ],
      "execution_count": null,
      "outputs": []
    },
    {
      "cell_type": "code",
      "metadata": {
        "id": "pHxWB57ZHgmD"
      },
      "source": [
        "dataset = dcm_dataset('..')\n",
        "dataloader = torch.utils.data.DataLoader(\n",
        "    dataset, batch_size=2, num_workers=4)"
      ],
      "execution_count": null,
      "outputs": []
    },
    {
      "cell_type": "code",
      "metadata": {
        "id": "fv23E1d2HgmG"
      },
      "source": [
        "cnn = Vanilla_CNN(width=16).to(\"cuda:0\")\n",
        "regressor = Simple_regressor(16 * 1024 * 1024).to(\"cuda:0\")"
      ],
      "execution_count": null,
      "outputs": []
    },
    {
      "cell_type": "code",
      "metadata": {
        "id": "lUsXI7iyHgmJ"
      },
      "source": [
        "params = list(cnn.parameters()) + list(regressor.parameters())\n",
        "optim = torch.optim.Adam(params, lr=1e-4)\n",
        "\n",
        "loss_fn = torch.nn.BCEWithLogitsLoss()\n",
        "n_epoch = 1"
      ],
      "execution_count": null,
      "outputs": []
    },
    {
      "cell_type": "code",
      "metadata": {
        "id": "4iyJS0wKHgmM"
      },
      "source": [
        "for epoch in range(n_epoch):\n",
        "    timer = time.time()\n",
        "\n",
        "    for img, target in dataloader:\n",
        "\n",
        "        optim.zero_grad()\n",
        "\n",
        "        img, target = img.to(\"cuda:0\"), target.to(\"cuda:0\")\n",
        "\n",
        "        pred1 = cnn(img)\n",
        "        pred2 = regressor(pred1.flatten(1, -1))\n",
        "\n",
        "        loss = loss_fn(pred2, target)\n",
        "\n",
        "        loss.backward()\n",
        "\n",
        "        optim.step()\n",
        "\n",
        "    print(\"Epoch : {}\".format(epoch + 1))\n",
        "    print(\"Time elapsed : {}\".format(time.time() - timer))"
      ],
      "execution_count": null,
      "outputs": []
    }
  ]
}