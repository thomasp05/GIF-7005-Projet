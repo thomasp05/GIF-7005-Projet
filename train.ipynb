{
  "nbformat": 4,
  "nbformat_minor": 0,
  "metadata": {
    "accelerator": "GPU",
    "colab": {
      "name": "train.ipynb",
      "provenance": [],
      "include_colab_link": true
    },
    "kernelspec": {
      "display_name": "Python 3",
      "language": "python",
      "name": "python3"
    },
    "language_info": {
      "codemirror_mode": {
        "name": "ipython",
        "version": 3
      },
      "file_extension": ".py",
      "mimetype": "text/x-python",
      "name": "python",
      "nbconvert_exporter": "python",
      "pygments_lexer": "ipython3",
      "version": "3.8.5"
    }
  },
  "cells": [
    {
      "cell_type": "markdown",
      "metadata": {
        "id": "view-in-github",
        "colab_type": "text"
      },
      "source": [
        "<a href=\"https://colab.research.google.com/github/thomasp05/GIF-7005-Projet/blob/develop/train.ipynb\" target=\"_parent\"><img src=\"https://colab.research.google.com/assets/colab-badge.svg\" alt=\"Open In Colab\"/></a>"
      ]
    },
    {
      "cell_type": "markdown",
      "metadata": {
        "id": "hHhKoM6gHy-j"
      },
      "source": [
        "#Pre-configuration"
      ]
    },
    {
      "cell_type": "markdown",
      "metadata": {
        "id": "Su4LLscEa_4O"
      },
      "source": [
        "## Mount Google Drive"
      ]
    },
    {
      "cell_type": "code",
      "metadata": {
        "id": "qnxS2EaFu7LK"
      },
      "source": [
        "# Set up colab instance\n",
        "from google.colab import drive\n",
        "drive.mount('/content/drive')"
      ],
      "execution_count": null,
      "outputs": []
    },
    {
      "cell_type": "markdown",
      "metadata": {
        "id": "ANH0CZH-bS3p"
      },
      "source": [
        "## Clone and pull github repository"
      ]
    },
    {
      "cell_type": "code",
      "metadata": {
        "id": "6GNdWhCRbT1t"
      },
      "source": [
        "# Make sure clone at root\n",
        "%cd /content\n",
        "!pip3 install pydicom\n",
        "!git clone https://github.com/thomasp05/gif-705-projet\n",
        "\n",
        "import os\n",
        "os.chdir('gif-705-projet')"
      ],
      "execution_count": null,
      "outputs": []
    },
    {
      "cell_type": "code",
      "metadata": {
        "id": "3Ncf7X5bhE12"
      },
      "source": [
        "!git pull"
      ],
      "execution_count": null,
      "outputs": []
    },
    {
      "cell_type": "markdown",
      "metadata": {
        "id": "RJUWJw8YbjJo"
      },
      "source": [
        "# Imports and load"
      ]
    },
    {
      "cell_type": "code",
      "metadata": {
        "colab": {
          "base_uri": "https://localhost:8080/"
        },
        "id": "Fhc7sieDHgl4",
        "outputId": "2d92a842-ecdb-499a-ed84-0c2fefd5c68f"
      },
      "source": [
        "import time\n",
        "\n",
        "import torch\n",
        "\n",
        "from dataset import *\n",
        "from models import *\n",
        "\n",
        "torch.manual_seed(111)"
      ],
      "execution_count": 8,
      "outputs": [
        {
          "output_type": "execute_result",
          "data": {
            "text/plain": [
              "<torch._C.Generator at 0x7fde8e9af630>"
            ]
          },
          "metadata": {
            "tags": []
          },
          "execution_count": 8
        }
      ]
    },
    {
      "cell_type": "markdown",
      "metadata": {
        "id": "yW15HAbmbwsU"
      },
      "source": [
        "## HYPERPARAMETERS"
      ]
    },
    {
      "cell_type": "code",
      "metadata": {
        "id": "1oWT_lAewCYb"
      },
      "source": [
        "N_EPOCH = 50\n",
        "BATCH_SIZE = 32"
      ],
      "execution_count": null,
      "outputs": []
    },
    {
      "cell_type": "markdown",
      "metadata": {
        "id": "efu7p-9Yb0ns"
      },
      "source": [
        "## Load dataset"
      ]
    },
    {
      "cell_type": "code",
      "metadata": {
        "id": "pHxWB57ZHgmD"
      },
      "source": [
        "dataset = dcm_dataset('../drive/MyDrive/GIF-7005-Projet/gif-7005-projet/data')\n",
        "\n",
        "train_set, test_set = train_test_split(dataset)\n",
        "\n",
        "train_loader = torch.utils.data.DataLoader(\n",
        "    train_set, batch_size=BATCH_SIZE, num_workers=2)\n",
        "test_loader = torch.utils.data.DataLoader(\n",
        "    test_set, batch_size=BATCH_SIZE, num_workers=2)"
      ],
      "execution_count": 13,
      "outputs": []
    },
    {
      "cell_type": "markdown",
      "metadata": {
        "id": "HDDem5Smb57y"
      },
      "source": [
        "# Train"
      ]
    },
    {
      "cell_type": "code",
      "metadata": {
        "id": "fv23E1d2HgmG"
      },
      "source": [
        "cnn = Vanilla_CNN(width=16).to(\"cuda:0\")\n",
        "regressor = Simple_regressor(16 * 8 * 8).to(\"cuda:0\")"
      ],
      "execution_count": 9,
      "outputs": []
    },
    {
      "cell_type": "code",
      "metadata": {
        "id": "murFxsRBbYZ8"
      },
      "source": [
        "# If model exists, load it\n",
        "if os.path.exists(\"../drive/MyDrive/GIF-7005-Projet/gif-7005-projet/cnn.pt\"):\n",
        "  cnn.load_state_dict(torch.load(\"../drive/MyDrive/GIF-7005-Projet/gif-7005-projet/cnn.pt\"))\n",
        "if os.path.exists(\"../drive/MyDrive/GIF-7005-Projet/gif-7005-projet/regressor.pt\"):\n",
        "  regressor.load_state_dict(torch.load(\"../drive/MyDrive/GIF-7005-Projet/gif-7005-projet/regressor.pt\"))"
      ],
      "execution_count": 10,
      "outputs": []
    },
    {
      "cell_type": "code",
      "metadata": {
        "id": "lUsXI7iyHgmJ"
      },
      "source": [
        "params = list(cnn.parameters()) + list(regressor.parameters())\n",
        "optim = torch.optim.Adam(params, lr=1e-4)\n",
        "\n",
        "loss_fn = torch.nn.BCEWithLogitsLoss()"
      ],
      "execution_count": 11,
      "outputs": []
    },
    {
      "cell_type": "code",
      "metadata": {
        "id": "4iyJS0wKHgmM"
      },
      "source": [
        "cnn.train()\n",
        "regressor.train()\n",
        "\n",
        "for epoch in range(N_EPOCH):\n",
        "    timer = time.time()\n",
        "\n",
        "    img_processed = 0\n",
        "\n",
        "    for img, (target, bounding_box) in train_loader:\n",
        "\n",
        "        optim.zero_grad()\n",
        "\n",
        "        img, target = img.to(\"cuda:0\"), target.to(\"cuda:0\")\n",
        "\n",
        "        pred1 = cnn(img)\n",
        "        pred2 = regressor(pred1.flatten(1, -1)).squeeze()\n",
        "\n",
        "        loss = loss_fn(pred2, target.to(torch.float))\n",
        "\n",
        "        loss.backward()\n",
        "\n",
        "        optim.step()\n",
        "\n",
        "        img_processed += img.shape[0]\n",
        "\n",
        "        # print(\"{:.2f} %, time : {:.2f}\\r\".format(100*img_processed/len(train_loader.dataset), time.time()-timer))\n",
        "\n",
        "    print(\"Epoch : {}\".format(epoch + 1))\n",
        "    print(\"Time elapsed : {:.2f}\".format(time.time() - timer))"
      ],
      "execution_count": null,
      "outputs": []
    },
    {
      "cell_type": "code",
      "metadata": {
        "id": "1jLa2BL1aH6a"
      },
      "source": [
        "# Save models\n",
        "torch.save(cnn.state_dict(), \"../drive/MyDrive/GIF-7005-Projet/gif-7005-projet/cnn.pt\")\n",
        "torch.save(regressor.state_dict(), \"../drive/MyDrive/GIF-7005-Projet/gif-7005-projet/regressor.pt\")"
      ],
      "execution_count": null,
      "outputs": []
    },
    {
      "cell_type": "code",
      "metadata": {
        "id": "j4Z5D2ZNac0b"
      },
      "source": [
        "# Free memory\n",
        "del optim, img, target, bounding_box\n",
        "torch.cuda.empty_cache()"
      ],
      "execution_count": null,
      "outputs": []
    },
    {
      "cell_type": "code",
      "metadata": {
        "id": "87kXZhuEwW3l"
      },
      "source": [
        "# Accuracy\n",
        "\n",
        "cnn.eval()\n",
        "regressor.eval()\n",
        "\n",
        "score = []\n",
        "\n",
        "for img, (target, bounding_box) in test_loader:\n",
        "\n",
        "    img, target = img.to(\"cuda:0\"), target.to(\"cuda:0\")\n",
        "\n",
        "    pred1 = cnn(img)\n",
        "    pred2 = regressor(pred1.flatten(1, -1)).squeeze()\n",
        "\n",
        "    score_ = ((pred2 > 0.5) == (target == 1)).sum()\n",
        "\n",
        "    score.append(score_)\n",
        "\n",
        "score = torch.Tensor(score).sum() / len(test_loader.dataset)\n",
        "print(score)"
      ],
      "execution_count": null,
      "outputs": []
    }
  ]
}