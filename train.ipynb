{
 "cells": [
  {
   "cell_type": "code",
   "execution_count": null,
   "metadata": {},
   "outputs": [],
   "source": [
    "import time\n",
    "\n",
    "import torch\n",
    "from dataset import *\n",
    "from models import *"
   ]
  },
  {
   "cell_type": "code",
   "execution_count": null,
   "metadata": {},
   "outputs": [],
   "source": [
    "dataset = dcm_dataset('..')\n",
    "dataloader = torch.utils.data.DataLoader(\n",
    "    dataset, batch_size=2, num_workers=4)"
   ]
  },
  {
   "cell_type": "code",
   "execution_count": null,
   "metadata": {},
   "outputs": [],
   "source": [
    "cnn = Vanilla_CNN(width=16).to(\"cuda:0\")\n",
    "regressor = Simple_regressor(16 * 1024 * 1024).to(\"cuda:0\")"
   ]
  },
  {
   "cell_type": "code",
   "execution_count": null,
   "metadata": {},
   "outputs": [],
   "source": [
    "params = list(cnn.parameters()) + list(regressor.parameters())\n",
    "optim = torch.optim.Adam(params, lr=1e-4)\n",
    "\n",
    "loss_fn = torch.nn.BCEWithLogitsLoss()\n",
    "n_epoch = 1"
   ]
  },
  {
   "cell_type": "code",
   "execution_count": null,
   "metadata": {},
   "outputs": [],
   "source": [
    "for epoch in range(n_epoch):\n",
    "    timer = time.time()\n",
    "\n",
    "    for img, target in dataloader:\n",
    "\n",
    "        optim.zero_grad()\n",
    "\n",
    "        img, target = img.to(\"cuda:0\"), target.to(\"cuda:0\")\n",
    "\n",
    "        pred1 = cnn(img)\n",
    "        pred2 = regressor(pred1.flatten(1, -1))\n",
    "\n",
    "        loss = loss_fn(pred2, target)\n",
    "\n",
    "        loss.backward()\n",
    "\n",
    "        optim.step()\n",
    "\n",
    "    print(\"Epoch : {}\".format(epoch + 1))\n",
    "    print(\"Time elapsed : {}\".format(time.time() - timer))"
   ]
  }
 ],
 "metadata": {
  "kernelspec": {
   "display_name": "Python 3",
   "language": "python",
   "name": "python3"
  },
  "language_info": {
   "codemirror_mode": {
    "name": "ipython",
    "version": 3
   },
   "file_extension": ".py",
   "mimetype": "text/x-python",
   "name": "python",
   "nbconvert_exporter": "python",
   "pygments_lexer": "ipython3",
   "version": "3.8.5"
  }
 },
 "nbformat": 4,
 "nbformat_minor": 4
}
