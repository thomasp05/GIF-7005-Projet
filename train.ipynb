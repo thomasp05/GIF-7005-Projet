{
 "cells": [
  {
   "cell_type": "markdown",
   "metadata": {
    "id": "hHhKoM6gHy-j"
   },
   "source": [
    "Test with Github"
   ]
  },
  {
   "cell_type": "code",
   "execution_count": null,
   "metadata": {
    "colab": {
     "base_uri": "https://localhost:8080/"
    },
    "id": "qnxS2EaFu7LK",
    "outputId": "016f9eb5-6603-40ce-eca8-71e026714ab3"
   },
   "outputs": [],
   "source": [
    "# Set up colab instance\n",
    "from google.colab import drive\n",
    "drive.mount('/content/drive')\n",
    "\n",
    "!pip3 install pydicom\n",
    "!git clone https://github.com/thomasp05/gif-705-projet\n",
    "\n",
    "import os\n",
    "os.chdir('gif-705-projet')"
   ]
  },
  {
   "cell_type": "code",
   "execution_count": null,
   "metadata": {
    "colab": {
     "base_uri": "https://localhost:8080/"
    },
    "id": "Fhc7sieDHgl4",
    "outputId": "fbf4a67f-3c1f-42d0-b347-4118cd50d267"
   },
   "outputs": [],
   "source": [
    "import time\n",
    "\n",
    "import torch\n",
    "\n",
    "from dataset import *\n",
    "from models import *\n",
    "\n",
    "torch.manual_seed(111)"
   ]
  },
  {
   "cell_type": "code",
   "execution_count": null,
   "metadata": {
    "id": "1oWT_lAewCYb"
   },
   "outputs": [],
   "source": [
    "# HYPERPARAMETERS\n",
    "N_EPOCH = 10\n",
    "BATCH_SIZE = 64"
   ]
  },
  {
   "cell_type": "code",
   "execution_count": null,
   "metadata": {
    "colab": {
     "base_uri": "https://localhost:8080/",
     "height": 255
    },
    "id": "pHxWB57ZHgmD",
    "outputId": "b94db730-2cba-4056-ec82-ca4164e88b63"
   },
   "outputs": [],
   "source": [
    "dataset = dcm_dataset('../drive/MyDrive/gif-7005')\n",
    "\n",
    "train_set, test_set = train_test_split(dataset)\n",
    "\n",
    "train_loader = torch.utils.data.DataLoader(\n",
    "    train_set, batch_size=BATCH_SIZE, num_workers=2)\n",
    "test_loader = torch.utils.data.DataLoader(\n",
    "    test_set, batch_size=BATCH_SIZE, num_workers=2)"
   ]
  },
  {
   "cell_type": "code",
   "execution_count": null,
   "metadata": {
    "id": "fv23E1d2HgmG"
   },
   "outputs": [],
   "source": [
    "cnn = Vanilla_CNN(width=16).to(\"cuda:0\")\n",
    "regressor = Simple_regressor(16 * 8 * 8).to(\"cuda:0\")"
   ]
  },
  {
   "cell_type": "code",
   "execution_count": null,
   "metadata": {
    "id": "lUsXI7iyHgmJ"
   },
   "outputs": [],
   "source": [
    "params = list(cnn.parameters()) + list(regressor.parameters())\n",
    "optim = torch.optim.Adam(params, lr=1e-4)\n",
    "\n",
    "loss_fn = torch.nn.BCEWithLogitsLoss()"
   ]
  },
  {
   "cell_type": "code",
   "execution_count": null,
   "metadata": {
    "id": "4iyJS0wKHgmM"
   },
   "outputs": [],
   "source": [
    "cnn.train()\n",
    "regressor.train()\n",
    "\n",
    "for epoch in range(N_EPOCH):\n",
    "    timer = time.time()\n",
    "\n",
    "    img_processed = 0\n",
    "\n",
    "    for img, target in train_loader:\n",
    "\n",
    "        optim.zero_grad()\n",
    "\n",
    "        img, target = img.to(\"cuda:0\"), target.to(\"cuda:0\")\n",
    "\n",
    "        pred1 = cnn(img)\n",
    "        pred2 = regressor(pred1.flatten(1, -1)).squeeze()\n",
    "\n",
    "        loss = loss_fn(pred2, target.to(torch.float))\n",
    "\n",
    "        loss.backward()\n",
    "\n",
    "        optim.step()\n",
    "\n",
    "        img_processed += img.shape[0]\n",
    "\n",
    "    print(\"Epoch : {}\".format(epoch + 1))\n",
    "    print(\"Time elapsed : {}\".format(time.time() - timer))"
   ]
  },
  {
   "cell_type": "code",
   "execution_count": null,
   "metadata": {
    "id": "87kXZhuEwW3l"
   },
   "outputs": [],
   "source": [
    "# Accuracy\n",
    "\n",
    "cnn.eval()\n",
    "regressor.eval()\n",
    "\n",
    "score = []\n",
    "\n",
    "for img, target in test_loader:\n",
    "\n",
    "    img, target = img.to(\"cuda:0\"), target.to(\"cuda:0\")\n",
    "\n",
    "    pred1 = cnn(img)\n",
    "    pred2 = regressor(pred1.flatten(1, -1)).squeeze()\n",
    "\n",
    "    score_ = ((pred2 > 0.5) == (target == 1)).sum()\n",
    "\n",
    "    score.append(score_)\n",
    "\n",
    "score = torch.Tensor(score).sum() / len(test_loader.dataset)\n",
    "print(score)"
   ]
  }
 ],
 "metadata": {
  "accelerator": "GPU",
  "colab": {
   "name": "train.ipynb",
   "provenance": []
  },
  "kernelspec": {
   "display_name": "Python 3",
   "language": "python",
   "name": "python3"
  },
  "language_info": {
   "codemirror_mode": {
    "name": "ipython",
    "version": 3
   },
   "file_extension": ".py",
   "mimetype": "text/x-python",
   "name": "python",
   "nbconvert_exporter": "python",
   "pygments_lexer": "ipython3",
   "version": "3.8.5"
  }
 },
 "nbformat": 4,
 "nbformat_minor": 4
}
